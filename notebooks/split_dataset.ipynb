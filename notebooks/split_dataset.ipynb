{
 "cells": [
  {
   "cell_type": "code",
   "execution_count": 1,
   "id": "66878544",
   "metadata": {},
   "outputs": [],
   "source": [
    "import pandas as pd\n",
    "import os\n",
    "from sklearn.model_selection import train_test_split"
   ]
  },
  {
   "cell_type": "code",
   "execution_count": 2,
   "id": "8330525e",
   "metadata": {},
   "outputs": [],
   "source": [
    "os.chdir(os.path.join(os.path.dirname(os.getcwd()), 'data', 'in'))"
   ]
  },
  {
   "cell_type": "code",
   "execution_count": 3,
   "id": "3f98de3f",
   "metadata": {},
   "outputs": [],
   "source": [
    "clientes_df = pd.read_csv('train_clientes_sample.csv')\n",
    "requerimientos_df = pd.read_csv('train_requerimientos_sample.csv')"
   ]
  },
  {
   "cell_type": "code",
   "execution_count": 4,
   "id": "4f0b7da8",
   "metadata": {},
   "outputs": [],
   "source": [
    "clientes_ids = list(set(clientes_df['ID_CORRELATIVO']))"
   ]
  },
  {
   "cell_type": "code",
   "execution_count": 5,
   "id": "28e8d1f9",
   "metadata": {},
   "outputs": [],
   "source": [
    "ids_train, ids_test = train_test_split(clientes_ids, test_size=0.3, random_state=42)"
   ]
  },
  {
   "cell_type": "code",
   "execution_count": 6,
   "id": "d69f0ba0",
   "metadata": {},
   "outputs": [],
   "source": [
    "train_clientes = clientes_df[clientes_df['ID_CORRELATIVO'].isin(ids_train)]\n",
    "test_clientes = clientes_df[clientes_df['ID_CORRELATIVO'].isin(ids_test)]\n",
    "\n",
    "train_requerimientos = requerimientos_df[requerimientos_df['ID_CORRELATIVO'].isin(ids_train)]\n",
    "test_requerimientos = requerimientos_df[requerimientos_df['ID_CORRELATIVO'].isin(ids_test)]\n"
   ]
  },
  {
   "cell_type": "code",
   "execution_count": 7,
   "id": "1f546878",
   "metadata": {},
   "outputs": [
    {
     "data": {
      "text/plain": [
       "'c:\\\\Users\\\\Omen\\\\UP\\\\Teoria importante\\\\ML OPS\\\\Proyecto final\\\\Bank_Attrition_Detection_MLOps\\\\data\\\\in'"
      ]
     },
     "execution_count": 7,
     "metadata": {},
     "output_type": "execute_result"
    }
   ],
   "source": [
    "os.getcwd()"
   ]
  },
  {
   "cell_type": "code",
   "execution_count": 8,
   "id": "8dad11a4",
   "metadata": {},
   "outputs": [],
   "source": [
    "os.chdir('..')"
   ]
  },
  {
   "cell_type": "code",
   "execution_count": 9,
   "id": "7ce29fef",
   "metadata": {},
   "outputs": [
    {
     "data": {
      "text/plain": [
       "'c:\\\\Users\\\\Omen\\\\UP\\\\Teoria importante\\\\ML OPS\\\\Proyecto final\\\\Bank_Attrition_Detection_MLOps\\\\data'"
      ]
     },
     "execution_count": 9,
     "metadata": {},
     "output_type": "execute_result"
    }
   ],
   "source": [
    "os.getcwd()"
   ]
  },
  {
   "cell_type": "code",
   "execution_count": null,
   "id": "8a3ee7c9",
   "metadata": {},
   "outputs": [],
   "source": [
    "os.mkdir('out')"
   ]
  },
  {
   "cell_type": "code",
   "execution_count": 10,
   "id": "7ec2cf13",
   "metadata": {},
   "outputs": [],
   "source": [
    "train_clientes.to_csv('out/train_clientes.csv', index=False)\n",
    "test_clientes.to_csv('out/test_clientes.csv', index=False)\n",
    "train_requerimientos.to_csv('out/train_requerimientos.csv', index=False)\n",
    "test_requerimientos.to_csv('out/test_requerimientos.csv', index=False)"
   ]
  }
 ],
 "metadata": {
  "kernelspec": {
   "display_name": "base",
   "language": "python",
   "name": "python3"
  },
  "language_info": {
   "codemirror_mode": {
    "name": "ipython",
    "version": 3
   },
   "file_extension": ".py",
   "mimetype": "text/x-python",
   "name": "python",
   "nbconvert_exporter": "python",
   "pygments_lexer": "ipython3",
   "version": "3.12.7"
  }
 },
 "nbformat": 4,
 "nbformat_minor": 5
}
