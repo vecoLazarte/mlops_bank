{
 "cells": [
  {
   "cell_type": "code",
   "execution_count": 1,
   "id": "f494c56b",
   "metadata": {},
   "outputs": [
    {
     "data": {
      "text/html": [
       "\n",
       "            <div>\n",
       "                <ins><a href=\"https://ydata.ai/register\">Upgrade to ydata-sdk</a></ins>\n",
       "                <p>\n",
       "                    Improve your data and profiling with ydata-sdk, featuring data quality scoring, redundancy detection, outlier identification, text validation, and synthetic data generation.\n",
       "                </p>\n",
       "            </div>\n",
       "            "
      ],
      "text/plain": [
       "<IPython.core.display.HTML object>"
      ]
     },
     "metadata": {},
     "output_type": "display_data"
    }
   ],
   "source": [
    "import os\n",
    "import pandas as pd\n",
    "import matplotlib.pyplot as plt\n",
    "from ydata_profiling import ProfileReport"
   ]
  },
  {
   "cell_type": "code",
   "execution_count": 2,
   "id": "7d5fe0d2",
   "metadata": {},
   "outputs": [],
   "source": [
    "os.chdir(os.path.join(os.path.dirname(os.getcwd()), 'data', 'in'))"
   ]
  },
  {
   "cell_type": "markdown",
   "id": "49c5ef66",
   "metadata": {},
   "source": [
    "### Carga de datos"
   ]
  },
  {
   "cell_type": "code",
   "execution_count": 3,
   "id": "1675ee6b",
   "metadata": {},
   "outputs": [],
   "source": [
    "clientes_df = pd.read_csv('train_clientes_sample.csv')\n",
    "requerimientos_df = pd.read_csv('train_requerimientos_sample.csv')"
   ]
  },
  {
   "cell_type": "markdown",
   "id": "576ae72c",
   "metadata": {},
   "source": [
    "### % de valores vacios de cada variable"
   ]
  },
  {
   "cell_type": "code",
   "execution_count": 4,
   "id": "b7378886",
   "metadata": {},
   "outputs": [
    {
     "data": {
      "text/plain": [
       "ID_CORRELATIVO                0.000000\n",
       "CODMES                        0.000000\n",
       "FLG_BANCARIZADO               0.000000\n",
       "RANG_INGRESO                 13.482143\n",
       "FLAG_LIMA_PROVINCIA           4.862500\n",
       "EDAD                          7.594643\n",
       "ANTIGUEDAD                    2.501786\n",
       "ATTRITION                     0.000000\n",
       "RANG_SDO_PASIVO_MENOS0        0.000000\n",
       "SDO_ACTIVO_MENOS0             0.000000\n",
       "SDO_ACTIVO_MENOS1             0.000000\n",
       "SDO_ACTIVO_MENOS2             0.000000\n",
       "SDO_ACTIVO_MENOS3             0.000000\n",
       "SDO_ACTIVO_MENOS4             0.000000\n",
       "SDO_ACTIVO_MENOS5             0.000000\n",
       "FLG_SEGURO_MENOS0             0.000000\n",
       "FLG_SEGURO_MENOS1             0.000000\n",
       "FLG_SEGURO_MENOS2             0.000000\n",
       "FLG_SEGURO_MENOS3             0.000000\n",
       "FLG_SEGURO_MENOS4             0.000000\n",
       "FLG_SEGURO_MENOS5             0.000000\n",
       "RANG_NRO_PRODUCTOS_MENOS0     0.000000\n",
       "FLG_NOMINA                    0.000000\n",
       "NRO_ACCES_CANAL1_MENOS0       0.000000\n",
       "NRO_ACCES_CANAL1_MENOS1       0.000000\n",
       "NRO_ACCES_CANAL1_MENOS2       0.000000\n",
       "NRO_ACCES_CANAL1_MENOS3       0.000000\n",
       "NRO_ACCES_CANAL1_MENOS4       0.000000\n",
       "NRO_ACCES_CANAL1_MENOS5       0.000000\n",
       "NRO_ACCES_CANAL2_MENOS0       0.000000\n",
       "NRO_ACCES_CANAL2_MENOS1       0.000000\n",
       "NRO_ACCES_CANAL2_MENOS2       0.000000\n",
       "NRO_ACCES_CANAL2_MENOS3       0.000000\n",
       "NRO_ACCES_CANAL2_MENOS4       0.000000\n",
       "NRO_ACCES_CANAL2_MENOS5       0.000000\n",
       "NRO_ACCES_CANAL3_MENOS0       0.000000\n",
       "NRO_ACCES_CANAL3_MENOS1       0.000000\n",
       "NRO_ACCES_CANAL3_MENOS2       0.000000\n",
       "NRO_ACCES_CANAL3_MENOS3       0.000000\n",
       "NRO_ACCES_CANAL3_MENOS4       0.000000\n",
       "NRO_ACCES_CANAL3_MENOS5       0.000000\n",
       "NRO_ENTID_SSFF_MENOS0         0.000000\n",
       "NRO_ENTID_SSFF_MENOS1         0.000000\n",
       "NRO_ENTID_SSFF_MENOS2         0.000000\n",
       "NRO_ENTID_SSFF_MENOS3         0.000000\n",
       "NRO_ENTID_SSFF_MENOS4         0.000000\n",
       "NRO_ENTID_SSFF_MENOS5         0.000000\n",
       "FLG_SDO_OTSSFF_MENOS0         0.000000\n",
       "FLG_SDO_OTSSFF_MENOS1         0.000000\n",
       "FLG_SDO_OTSSFF_MENOS2         0.000000\n",
       "FLG_SDO_OTSSFF_MENOS3         0.000000\n",
       "FLG_SDO_OTSSFF_MENOS4         0.000000\n",
       "FLG_SDO_OTSSFF_MENOS5         0.000000\n",
       "dtype: float64"
      ]
     },
     "execution_count": 4,
     "metadata": {},
     "output_type": "execute_result"
    }
   ],
   "source": [
    "clientes_df.isnull().sum() / clientes_df.shape[0] * 100"
   ]
  },
  {
   "cell_type": "code",
   "execution_count": 5,
   "id": "a8f9b112",
   "metadata": {},
   "outputs": [
    {
     "data": {
      "text/plain": [
       "ID_CORRELATIVO         0.000000\n",
       "TIPO_REQUERIMIENTO2    0.000000\n",
       "DICTAMEN               0.002421\n",
       "CODMES                 0.000000\n",
       "PRODUCTO_SERVICIO_2    0.000000\n",
       "SUBMOTIVO_2            0.000000\n",
       "dtype: float64"
      ]
     },
     "execution_count": 5,
     "metadata": {},
     "output_type": "execute_result"
    }
   ],
   "source": [
    "requerimientos_df.isnull().sum() / requerimientos_df.shape[0] * 100"
   ]
  },
  {
   "cell_type": "markdown",
   "id": "55fb6606",
   "metadata": {},
   "source": [
    "### Balanceo de clases"
   ]
  },
  {
   "cell_type": "code",
   "execution_count": 6,
   "id": "9ef19951",
   "metadata": {},
   "outputs": [
    {
     "data": {
      "image/png": "[encoded data removed]",
      "text/plain": [
       "<Figure size 640x480 with 1 Axes>"
      ]
     },
     "metadata": {},
     "output_type": "display_data"
    }
   ],
   "source": [
    "conteo = clientes_df.ATTRITION.value_counts()\n",
    "\n",
    "ax = conteo.plot(kind='bar')\n",
    "for i, valor in enumerate(conteo):\n",
    "    ax.text(i, valor + 0.5, str(f'total : {valor} - %: {round(valor/clientes_df.shape[0]*100)}'), ha='center', va='bottom')\n",
    "\n",
    "plt.xlabel('Attrition')\n",
    "plt.ylabel('Cantidad')\n",
    "plt.title('Distribución de Attrition')\n",
    "plt.tight_layout()\n",
    "plt.show()"
   ]
  },
  {
   "cell_type": "code",
   "execution_count": 42,
   "id": "76c82e3a",
   "metadata": {},
   "outputs": [
    {
     "data": {
      "application/vnd.jupyter.widget-view+json": {
       "model_id": "a1a78d6e16304ebeb0caca9d19c0f79b",
       "version_major": 2,
       "version_minor": 0
      },
      "text/plain": [
       "Summarize dataset:   0%|          | 0/5 [00:00<?, ?it/s]"
      ]
     },
     "metadata": {},
     "output_type": "display_data"
    },
    {
     "name": "stderr",
     "output_type": "stream",
     "text": [
      "100%|██████████| 53/53 [00:00<00:00, 1227.60it/s]\n"
     ]
    },
    {
     "data": {
      "application/vnd.jupyter.widget-view+json": {
       "model_id": "640bd253bd8c4a1990fc012a05bc3ab5",
       "version_major": 2,
       "version_minor": 0
      },
      "text/plain": [
       "Generate report structure:   0%|          | 0/1 [00:00<?, ?it/s]"
      ]
     },
     "metadata": {},
     "output_type": "display_data"
    },
    {
     "data": {
      "application/vnd.jupyter.widget-view+json": {
       "model_id": "9612c815c03849359d01f44a39776f3f",
       "version_major": 2,
       "version_minor": 0
      },
      "text/plain": [
       "Render HTML:   0%|          | 0/1 [00:00<?, ?it/s]"
      ]
     },
     "metadata": {},
     "output_type": "display_data"
    },
    {
     "data": {
      "application/vnd.jupyter.widget-view+json": {
       "model_id": "cb053c2aa8f74e979f4cf03086294cca",
       "version_major": 2,
       "version_minor": 0
      },
      "text/plain": [
       "Export report to file:   0%|          | 0/1 [00:00<?, ?it/s]"
      ]
     },
     "metadata": {},
     "output_type": "display_data"
    },
    {
     "data": {
      "application/vnd.jupyter.widget-view+json": {
       "model_id": "8506e3ac052b413d86c4eda349e7f9d9",
       "version_major": 2,
       "version_minor": 0
      },
      "text/plain": [
       "Summarize dataset:   0%|          | 0/5 [00:00<?, ?it/s]"
      ]
     },
     "metadata": {},
     "output_type": "display_data"
    },
    {
     "name": "stderr",
     "output_type": "stream",
     "text": [
      "100%|██████████| 6/6 [00:00<00:00, 138.75it/s]\n"
     ]
    },
    {
     "data": {
      "application/vnd.jupyter.widget-view+json": {
       "model_id": "d946761774c24b86851647e01e58da8b",
       "version_major": 2,
       "version_minor": 0
      },
      "text/plain": [
       "Generate report structure:   0%|          | 0/1 [00:00<?, ?it/s]"
      ]
     },
     "metadata": {},
     "output_type": "display_data"
    },
    {
     "data": {
      "application/vnd.jupyter.widget-view+json": {
       "model_id": "ba1a900492444039a22fc03f5dc4a28b",
       "version_major": 2,
       "version_minor": 0
      },
      "text/plain": [
       "Render HTML:   0%|          | 0/1 [00:00<?, ?it/s]"
      ]
     },
     "metadata": {},
     "output_type": "display_data"
    },
    {
     "data": {
      "application/vnd.jupyter.widget-view+json": {
       "model_id": "b78f8c244d8249f69ec213a76c06edab",
       "version_major": 2,
       "version_minor": 0
      },
      "text/plain": [
       "Export report to file:   0%|          | 0/1 [00:00<?, ?it/s]"
      ]
     },
     "metadata": {},
     "output_type": "display_data"
    }
   ],
   "source": [
    "profile_clientes_df = ProfileReport(clientes_df, title=\"Reporte de Clientes\")\n",
    "profile_requerimientos_df = ProfileReport(requerimientos_df, title=\"Reporte de Requirementes\")\n",
    "\n",
    "profile_clientes_df.to_file(\"Reporte de Clientes.html\")\n",
    "profile_requerimientos_df.to_file(\"Reporte de Requirementes.html\")"
   ]
  },
  {
   "cell_type": "code",
   "execution_count": 9,
   "id": "2a708819",
   "metadata": {},
   "outputs": [
    {
     "data": {
      "text/plain": [
       "ID_CORRELATIVO                 int64\n",
       "CODMES                         int64\n",
       "FLG_BANCARIZADO                int64\n",
       "RANG_INGRESO                  object\n",
       "FLAG_LIMA_PROVINCIA           object\n",
       "EDAD                         float64\n",
       "ANTIGUEDAD                   float64\n",
       "ATTRITION                      int64\n",
       "RANG_SDO_PASIVO_MENOS0        object\n",
       "SDO_ACTIVO_MENOS0              int64\n",
       "SDO_ACTIVO_MENOS1              int64\n",
       "SDO_ACTIVO_MENOS2              int64\n",
       "SDO_ACTIVO_MENOS3              int64\n",
       "SDO_ACTIVO_MENOS4              int64\n",
       "SDO_ACTIVO_MENOS5              int64\n",
       "FLG_SEGURO_MENOS0              int64\n",
       "FLG_SEGURO_MENOS1              int64\n",
       "FLG_SEGURO_MENOS2              int64\n",
       "FLG_SEGURO_MENOS3              int64\n",
       "FLG_SEGURO_MENOS4              int64\n",
       "FLG_SEGURO_MENOS5              int64\n",
       "RANG_NRO_PRODUCTOS_MENOS0     object\n",
       "FLG_NOMINA                     int64\n",
       "NRO_ACCES_CANAL1_MENOS0        int64\n",
       "NRO_ACCES_CANAL1_MENOS1        int64\n",
       "NRO_ACCES_CANAL1_MENOS2        int64\n",
       "NRO_ACCES_CANAL1_MENOS3        int64\n",
       "NRO_ACCES_CANAL1_MENOS4        int64\n",
       "NRO_ACCES_CANAL1_MENOS5        int64\n",
       "NRO_ACCES_CANAL2_MENOS0        int64\n",
       "NRO_ACCES_CANAL2_MENOS1        int64\n",
       "NRO_ACCES_CANAL2_MENOS2        int64\n",
       "NRO_ACCES_CANAL2_MENOS3        int64\n",
       "NRO_ACCES_CANAL2_MENOS4        int64\n",
       "NRO_ACCES_CANAL2_MENOS5        int64\n",
       "NRO_ACCES_CANAL3_MENOS0        int64\n",
       "NRO_ACCES_CANAL3_MENOS1        int64\n",
       "NRO_ACCES_CANAL3_MENOS2        int64\n",
       "NRO_ACCES_CANAL3_MENOS3        int64\n",
       "NRO_ACCES_CANAL3_MENOS4        int64\n",
       "NRO_ACCES_CANAL3_MENOS5        int64\n",
       "NRO_ENTID_SSFF_MENOS0          int64\n",
       "NRO_ENTID_SSFF_MENOS1          int64\n",
       "NRO_ENTID_SSFF_MENOS2          int64\n",
       "NRO_ENTID_SSFF_MENOS3          int64\n",
       "NRO_ENTID_SSFF_MENOS4          int64\n",
       "NRO_ENTID_SSFF_MENOS5          int64\n",
       "FLG_SDO_OTSSFF_MENOS0          int64\n",
       "FLG_SDO_OTSSFF_MENOS1          int64\n",
       "FLG_SDO_OTSSFF_MENOS2          int64\n",
       "FLG_SDO_OTSSFF_MENOS3          int64\n",
       "FLG_SDO_OTSSFF_MENOS4          int64\n",
       "FLG_SDO_OTSSFF_MENOS5          int64\n",
       "dtype: object"
      ]
     },
     "execution_count": 9,
     "metadata": {},
     "output_type": "execute_result"
    }
   ],
   "source": [
    "clientes_df.dtypes"
   ]
  }
 ],
 "metadata": {
  "kernelspec": {
   "display_name": "base",
   "language": "python",
   "name": "python3"
  },
  "language_info": {
   "codemirror_mode": {
    "name": "ipython",
    "version": 3
   },
   "file_extension": ".py",
   "mimetype": "text/x-python",
   "name": "python",
   "nbconvert_exporter": "python",
   "pygments_lexer": "ipython3",
   "version": "3.12.7"
  }
 },
 "nbformat": 4,
 "nbformat_minor": 5
}
