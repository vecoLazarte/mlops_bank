{
 "cells": [
  {
   "cell_type": "code",
   "execution_count": 1,
   "id": "60ed1fe3",
   "metadata": {},
   "outputs": [],
   "source": [
    "import os\n",
    "import pandas as pd\n",
    "import warnings\n",
    "warnings.filterwarnings('ignore')\n",
    "from sklearn.preprocessing import LabelEncoder\n",
    "from sklearn.preprocessing import StandardScaler\n",
    "import pickle"
   ]
  },
  {
   "cell_type": "code",
   "execution_count": 2,
   "id": "bea5c747",
   "metadata": {},
   "outputs": [],
   "source": [
    "os.chdir(os.path.join(os.path.dirname(os.getcwd()), 'data', 'in'))"
   ]
  },
  {
   "cell_type": "code",
   "execution_count": 3,
   "id": "03ed4d4a",
   "metadata": {},
   "outputs": [],
   "source": [
    "clientes_df = pd.read_csv('train_clientes_sample.csv')\n",
    "requerimientos_df = pd.read_csv('train_requerimientos_sample.csv')"
   ]
  },
  {
   "cell_type": "code",
   "execution_count": 4,
   "id": "39976970",
   "metadata": {},
   "outputs": [],
   "source": [
    "def generar_variables_ingenieria(clientes_df):\n",
    "    # SDO_ACTIVO (saldo)\n",
    "    clientes_df[\"VAR_SDO_ACTIVO_6M\"] = clientes_df[\"SDO_ACTIVO_MENOS0\"] - clientes_df[\"SDO_ACTIVO_MENOS5\"]\n",
    "    clientes_df[\"PROM_SDO_ACTIVO_0M_2M\"] = clientes_df[[f\"SDO_ACTIVO_MENOS{i}\" for i in range(3)]].mean(axis=1)\n",
    "    clientes_df[\"PROM_SDO_ACTIVO_3M_5M\"] = clientes_df[[f\"SDO_ACTIVO_MENOS{i}\" for i in range(3, 6)]].mean(axis=1)\n",
    "    clientes_df[\"VAR_SDO_ACTIVO_3M\"] = clientes_df[\"PROM_SDO_ACTIVO_0M_2M\"] - clientes_df[\"PROM_SDO_ACTIVO_3M_5M\"]\n",
    "    clientes_df[\"PROM_SDO_ACTIVO_6M\"] = clientes_df[[f\"SDO_ACTIVO_MENOS{i}\" for i in range(6)]].mean(axis=1)\n",
    "\n",
    "    # FLG_SEGURO (flag binario)\n",
    "    clientes_df[\"MESES_CON_SEGURO\"] = clientes_df[[f\"FLG_SEGURO_MENOS{i}\" for i in range(6)]].sum(axis=1)\n",
    "\n",
    "    # CANALES\n",
    "    for canal in [1, 2, 3]:\n",
    "        base = f\"NRO_ACCES_CANAL{canal}_MENOS\"\n",
    "        clientes_df[f\"VAR_NRO_ACCES_CANAL{canal}_6M\"] = clientes_df[f\"{base}0\"] - clientes_df[f\"{base}5\"]\n",
    "        clientes_df[f\"PROM_NRO_ACCES_CANAL{canal}_6M\"] = clientes_df[[f\"{base}{i}\" for i in range(6)]].mean(axis=1)\n",
    "        clientes_df[f\"PROM_NRO_ACCES_CANAL{canal}_0M_2M\"] = clientes_df[[f\"{base}{i}\" for i in range(3)]].mean(axis=1)\n",
    "        clientes_df[f\"PROM_NRO_ACCES_CANAL{canal}_3M_5M\"] = clientes_df[[f\"{base}{i}\" for i in range(3, 6)]].mean(axis=1)\n",
    "        clientes_df[f\"VAR_NRO_ACCES_CANAL{canal}_3M\"] = (clientes_df[f\"PROM_NRO_ACCES_CANAL{canal}_0M_2M\"] - clientes_df[f\"PROM_NRO_ACCES_CANAL{canal}_3M_5M\"])\n",
    "\n",
    "    # ENTIDADES FINANCIERAS\n",
    "    clientes_df[\"PROM_NRO_ENTID_SSFF_6M\"] = clientes_df[[f\"NRO_ENTID_SSFF_MENOS{i}\" for i in range(6)]].mean(axis=1)\n",
    "    clientes_df[\"VAR_NRO_ENTID_SSFF_6M\"] = clientes_df[\"NRO_ENTID_SSFF_MENOS0\"] - clientes_df[\"NRO_ENTID_SSFF_MENOS5\"]\n",
    "    clientes_df[\"PROM_NRO_ENTID_SSFF_0M_2M\"] = clientes_df[[f\"NRO_ENTID_SSFF_MENOS{i}\" for i in range(3)]].mean(axis=1)\n",
    "    clientes_df[\"PROM_NRO_ENTID_SSFF_3M_5M\"] = clientes_df[[f\"NRO_ENTID_SSFF_MENOS{i}\" for i in range(3, 6)]].mean(axis=1)\n",
    "    clientes_df[\"VAR_NRO_ENTID_SSFF_3M\"] = (clientes_df[\"PROM_NRO_ENTID_SSFF_0M_2M\"] - clientes_df[\"PROM_NRO_ENTID_SSFF_3M_5M\"])\n",
    "\n",
    "    # SALDO EN OTRAS ENTIDADES\n",
    "    clientes_df[\"MESES_CON_SALDO\"] = clientes_df[[f\"FLG_SDO_OTSSFF_MENOS{i}\" for i in range(6)]].sum(axis=1)\n",
    "\n",
    "    return clientes_df\n"
   ]
  },
  {
   "cell_type": "code",
   "execution_count": 5,
   "id": "2ef6eb0c",
   "metadata": {},
   "outputs": [],
   "source": [
    "def imputacion_variables(clientes_df,requerimientos_df):\n",
    "    moda = clientes_df['RANG_INGRESO'].mode()[0]\n",
    "    clientes_df['RANG_INGRESO'].fillna(moda, inplace=True)\n",
    "\n",
    "    moda = clientes_df['FLAG_LIMA_PROVINCIA'].mode()[0]\n",
    "    clientes_df['FLAG_LIMA_PROVINCIA'].fillna(moda, inplace=True)\n",
    "\n",
    "    clientes_df['EDAD'].fillna(clientes_df['EDAD'].median(), inplace=True)\n",
    "    clientes_df['ANTIGUEDAD'].fillna(clientes_df['ANTIGUEDAD'].median(), inplace=True)\n",
    "\n",
    "    moda = requerimientos_df['DICTAMEN'].mode()[0]\n",
    "    requerimientos_df['DICTAMEN'].fillna(moda, inplace=True)\n",
    "\n",
    "    return clientes_df, requerimientos_df"
   ]
  },
  {
   "cell_type": "code",
   "execution_count": 6,
   "id": "32ee09b2",
   "metadata": {},
   "outputs": [],
   "source": [
    "def encoder_categoricos(clientes_df):\n",
    "    clientes_df['RANG_SDO_PASIVO_MENOS0'] = clientes_df['RANG_SDO_PASIVO_MENOS0'].replace('Cero', 'Rango_SDO_00')\n",
    "    clientes_df['FLAG_LIMA_PROVINCIA'] = clientes_df['FLAG_LIMA_PROVINCIA'].map({'Lima': 1, 'Provincia': 0})\n",
    "    cat_cols = clientes_df.select_dtypes(include=['object', 'category']).columns\n",
    "    encoders_clientes = {} \n",
    "\n",
    "    for col in cat_cols:\n",
    "        le = LabelEncoder()\n",
    "        clientes_df[col] = le.fit_transform(clientes_df[col])\n",
    "        encoders_clientes[col] = le\n",
    "\n",
    "    return clientes_df, encoders_clientes"
   ]
  },
  {
   "cell_type": "code",
   "execution_count": 7,
   "id": "ed54a63a",
   "metadata": {},
   "outputs": [],
   "source": [
    "def construir_variables_requerimientos(df_reqs, id_col='ID_CORRELATIVO'):\n",
    "    \n",
    "    total_reqs = df_reqs.groupby(id_col).size().rename('total_requerimientos')\n",
    "    if not isinstance(total_reqs, pd.DataFrame):\n",
    "        total_reqs = total_reqs.to_frame()\n",
    "\n",
    "    n_tipo_req = df_reqs.groupby(id_col)['TIPO_REQUERIMIENTO2'].nunique().rename('nro_tipos_requerimiento').to_frame()\n",
    "    n_dictamen = df_reqs.groupby(id_col)['DICTAMEN'].nunique().rename('nro_dictamenes').to_frame()\n",
    "    n_producto = df_reqs.groupby(id_col)['PRODUCTO_SERVICIO_2'].nunique().rename('nro_productos_servicios').to_frame()\n",
    "    n_submotivo = df_reqs.groupby(id_col)['SUBMOTIVO_2'].nunique().rename('nro_submotivos').to_frame()\n",
    "\n",
    "    tipo_ohe = pd.get_dummies(df_reqs['TIPO_REQUERIMIENTO2'], prefix='tipo')\n",
    "    tipo_ohe[id_col] = df_reqs[id_col]\n",
    "    tipo_ohe = tipo_ohe.groupby(id_col).sum()\n",
    "\n",
    "    dictamen_ohe = pd.get_dummies(df_reqs['DICTAMEN'], prefix='dictamen')\n",
    "    dictamen_ohe[id_col] = df_reqs[id_col]\n",
    "    dictamen_ohe = dictamen_ohe.groupby(id_col).sum()\n",
    "\n",
    "    df_agregado = pd.concat([total_reqs, n_tipo_req, n_dictamen, n_producto, n_submotivo, tipo_ohe, dictamen_ohe],axis=1)\n",
    "\n",
    "    return df_agregado\n"
   ]
  },
  {
   "cell_type": "code",
   "execution_count": 8,
   "id": "1c199815",
   "metadata": {},
   "outputs": [],
   "source": [
    "def estandarizacion(df_final):\n",
    "    no_escalar = ['ID_CORRELATIVO', 'CODMES', 'ATTRITION']\n",
    "\n",
    "    columnas_a_escalar = df_final.columns.difference(no_escalar)\n",
    "\n",
    "    df_predictoras = df_final[columnas_a_escalar]\n",
    "\n",
    "    scaler = StandardScaler()\n",
    "    df_escaladas = pd.DataFrame(scaler.fit_transform(df_predictoras),columns=columnas_a_escalar,index=df_final.index)\n",
    "\n",
    "    df_final_estandarizado = pd.concat([df_final[no_escalar], df_escaladas],axis=1)\n",
    "\n",
    "    return df_final_estandarizado, scaler"
   ]
  },
  {
   "cell_type": "code",
   "execution_count": 9,
   "id": "717e23ca",
   "metadata": {},
   "outputs": [],
   "source": [
    "clientes_df = generar_variables_ingenieria(clientes_df)\n",
    "clientes_df,requerimientos_df = imputacion_variables(clientes_df,requerimientos_df)\n",
    "clientes_df, artifact_encoders_clientes = encoder_categoricos(clientes_df)\n",
    "requerimientos_df = construir_variables_requerimientos(requerimientos_df)\n",
    "df_final = clientes_df.merge(requerimientos_df, on='ID_CORRELATIVO', how='left')\n",
    "df_final.fillna(0, inplace=True)\n",
    "df_final, artifact_scaler = estandarizacion(df_final)"
   ]
  },
  {
   "cell_type": "code",
   "execution_count": null,
   "id": "b1197686",
   "metadata": {},
   "outputs": [],
   "source": [
    "df_final.columns"
   ]
  },
  {
   "cell_type": "markdown",
   "id": "8ea580c9",
   "metadata": {},
   "source": [
    "### test"
   ]
  },
  {
   "cell_type": "code",
   "execution_count": 10,
   "id": "4be9670f",
   "metadata": {},
   "outputs": [
    {
     "data": {
      "text/plain": [
       "'c:\\\\Users\\\\Omen\\\\UP\\\\Teoria importante\\\\ML OPS\\\\Proyecto final\\\\Bank_Attrition_Detection_MLOps\\\\data\\\\in'"
      ]
     },
     "execution_count": 10,
     "metadata": {},
     "output_type": "execute_result"
    }
   ],
   "source": [
    "os.getcwd()"
   ]
  },
  {
   "cell_type": "code",
   "execution_count": 12,
   "id": "c0fd882a",
   "metadata": {},
   "outputs": [],
   "source": [
    "os.chdir(os.path.join(os.path.dirname(os.getcwd()), 'out'))"
   ]
  },
  {
   "cell_type": "code",
   "execution_count": 13,
   "id": "9d517cf4",
   "metadata": {},
   "outputs": [
    {
     "data": {
      "text/plain": [
       "'c:\\\\Users\\\\Omen\\\\UP\\\\Teoria importante\\\\ML OPS\\\\Proyecto final\\\\Bank_Attrition_Detection_MLOps\\\\data\\\\out'"
      ]
     },
     "execution_count": 13,
     "metadata": {},
     "output_type": "execute_result"
    }
   ],
   "source": [
    "os.getcwd()"
   ]
  },
  {
   "cell_type": "code",
   "execution_count": 14,
   "id": "565c7f2f",
   "metadata": {},
   "outputs": [],
   "source": [
    "df_data_test = pd.read_csv(\"clientes_data_test.csv\")\n",
    "df_requerimientos_test = pd.read_csv(\"requerimientos_data_test.csv\")"
   ]
  },
  {
   "cell_type": "code",
   "execution_count": 15,
   "id": "c206f0a7",
   "metadata": {},
   "outputs": [],
   "source": [
    "os.chdir('../..')"
   ]
  },
  {
   "cell_type": "code",
   "execution_count": 16,
   "id": "a9f5bc74",
   "metadata": {},
   "outputs": [],
   "source": [
    "os.chdir('outputs/preprocess')"
   ]
  },
  {
   "cell_type": "code",
   "execution_count": 17,
   "id": "d206e87e",
   "metadata": {},
   "outputs": [
    {
     "data": {
      "text/plain": [
       "'c:\\\\Users\\\\Omen\\\\UP\\\\Teoria importante\\\\ML OPS\\\\Proyecto final\\\\Bank_Attrition_Detection_MLOps\\\\outputs\\\\preprocess'"
      ]
     },
     "execution_count": 17,
     "metadata": {},
     "output_type": "execute_result"
    }
   ],
   "source": [
    "os.getcwd()"
   ]
  },
  {
   "cell_type": "code",
   "execution_count": 18,
   "id": "1e704691",
   "metadata": {},
   "outputs": [],
   "source": [
    "def prepare_impute_missing(df_data, x_cols):\n",
    "    df_data_imputed = df_data.copy()\n",
    "    df_impute_parameters = pd.read_csv(f\"imputacion_parametros.csv\")\n",
    "    for col in x_cols:\n",
    "        impute_value = df_impute_parameters[df_impute_parameters[\"variable\"]==col][\"valor\"].values[0]\n",
    "        df_data_imputed[col] = df_data_imputed[col].fillna(impute_value)\n",
    "    return df_data_imputed"
   ]
  },
  {
   "cell_type": "code",
   "execution_count": 19,
   "id": "87807728",
   "metadata": {},
   "outputs": [],
   "source": [
    "def generar_variables_ingenieria(clientes_df):\n",
    "    clientes_df[\"VAR_SDO_ACTIVO_6M\"] = clientes_df[\"SDO_ACTIVO_MENOS0\"] - clientes_df[\"SDO_ACTIVO_MENOS5\"]\n",
    "    clientes_df[\"PROM_SDO_ACTIVO_0M_2M\"] = clientes_df[[f\"SDO_ACTIVO_MENOS{i}\" for i in range(3)]].mean(axis=1)\n",
    "    clientes_df[\"PROM_SDO_ACTIVO_3M_5M\"] = clientes_df[[f\"SDO_ACTIVO_MENOS{i}\" for i in range(3, 6)]].mean(axis=1)\n",
    "    clientes_df[\"VAR_SDO_ACTIVO_3M\"] = clientes_df[\"PROM_SDO_ACTIVO_0M_2M\"] - clientes_df[\"PROM_SDO_ACTIVO_3M_5M\"]\n",
    "    clientes_df[\"PROM_SDO_ACTIVO_6M\"] = clientes_df[[f\"SDO_ACTIVO_MENOS{i}\" for i in range(6)]].mean(axis=1)\n",
    "    clientes_df[\"MESES_CON_SEGURO\"] = clientes_df[[f\"FLG_SEGURO_MENOS{i}\" for i in range(6)]].sum(axis=1)\n",
    "    for canal in [1, 2, 3]:\n",
    "        base = f\"NRO_ACCES_CANAL{canal}_MENOS\"\n",
    "        clientes_df[f\"VAR_NRO_ACCES_CANAL{canal}_6M\"] = clientes_df[f\"{base}0\"] - clientes_df[f\"{base}5\"]\n",
    "        clientes_df[f\"PROM_NRO_ACCES_CANAL{canal}_6M\"] = clientes_df[[f\"{base}{i}\" for i in range(6)]].mean(axis=1)\n",
    "        clientes_df[f\"PROM_NRO_ACCES_CANAL{canal}_0M_2M\"] = clientes_df[[f\"{base}{i}\" for i in range(3)]].mean(axis=1)\n",
    "        clientes_df[f\"PROM_NRO_ACCES_CANAL{canal}_3M_5M\"] = clientes_df[[f\"{base}{i}\" for i in range(3, 6)]].mean(axis=1)\n",
    "        clientes_df[f\"VAR_NRO_ACCES_CANAL{canal}_3M\"] = (clientes_df[f\"PROM_NRO_ACCES_CANAL{canal}_0M_2M\"] - clientes_df[f\"PROM_NRO_ACCES_CANAL{canal}_3M_5M\"])\n",
    "    clientes_df[\"PROM_NRO_ENTID_SSFF_6M\"] = clientes_df[[f\"NRO_ENTID_SSFF_MENOS{i}\" for i in range(6)]].mean(axis=1)\n",
    "    clientes_df[\"VAR_NRO_ENTID_SSFF_6M\"] = clientes_df[\"NRO_ENTID_SSFF_MENOS0\"] - clientes_df[\"NRO_ENTID_SSFF_MENOS5\"]\n",
    "    clientes_df[\"PROM_NRO_ENTID_SSFF_0M_2M\"] = clientes_df[[f\"NRO_ENTID_SSFF_MENOS{i}\" for i in range(3)]].mean(axis=1)\n",
    "    clientes_df[\"PROM_NRO_ENTID_SSFF_3M_5M\"] = clientes_df[[f\"NRO_ENTID_SSFF_MENOS{i}\" for i in range(3, 6)]].mean(axis=1)\n",
    "    clientes_df[\"VAR_NRO_ENTID_SSFF_3M\"] = (clientes_df[\"PROM_NRO_ENTID_SSFF_0M_2M\"] - clientes_df[\"PROM_NRO_ENTID_SSFF_3M_5M\"])\n",
    "    clientes_df[\"MESES_CON_SALDO\"] = clientes_df[[f\"FLG_SDO_OTSSFF_MENOS{i}\" for i in range(6)]].sum(axis=1)\n",
    "\n",
    "    return clientes_df"
   ]
  },
  {
   "cell_type": "code",
   "execution_count": 20,
   "id": "c36036dc",
   "metadata": {},
   "outputs": [],
   "source": [
    "def construir_variables_requerimientos(df_reqs, id_col='ID_CORRELATIVO'):\n",
    "        total_reqs = df_reqs.groupby(id_col).size().rename('total_requerimientos')\n",
    "        if not isinstance(total_reqs, pd.DataFrame):\n",
    "            total_reqs = total_reqs.to_frame()\n",
    "        n_tipo_req = df_reqs.groupby(id_col)['TIPO_REQUERIMIENTO2'].nunique().rename('nro_tipos_requerimiento').to_frame()\n",
    "        n_dictamen = df_reqs.groupby(id_col)['DICTAMEN'].nunique().rename('nro_dictamenes').to_frame()\n",
    "        n_producto = df_reqs.groupby(id_col)['PRODUCTO_SERVICIO_2'].nunique().rename('nro_productos_servicios').to_frame()\n",
    "        n_submotivo = df_reqs.groupby(id_col)['SUBMOTIVO_2'].nunique().rename('nro_submotivos').to_frame()\n",
    "        tipo_ohe = pd.get_dummies(df_reqs['TIPO_REQUERIMIENTO2'], prefix='tipo')\n",
    "        tipo_ohe[id_col] = df_reqs[id_col]\n",
    "        tipo_ohe = tipo_ohe.groupby(id_col).sum()\n",
    "        dictamen_ohe = pd.get_dummies(df_reqs['DICTAMEN'], prefix='dictamen')\n",
    "        dictamen_ohe[id_col] = df_reqs[id_col]\n",
    "        dictamen_ohe = dictamen_ohe.groupby(id_col).sum()\n",
    "        df_agregado = pd.concat([total_reqs, n_tipo_req, n_dictamen, n_producto, n_submotivo, tipo_ohe, dictamen_ohe],axis=1)\n",
    "        return df_agregado"
   ]
  },
  {
   "cell_type": "code",
   "execution_count": 21,
   "id": "9b052a3a",
   "metadata": {},
   "outputs": [],
   "source": [
    "def apply_label_encoders_to_test(df_test):\n",
    "        df_test['RANG_SDO_PASIVO_MENOS0'] = df_test['RANG_SDO_PASIVO_MENOS0'].replace('Cero', 'Rango_SDO_00')\n",
    "        df_test['FLAG_LIMA_PROVINCIA'] = df_test['FLAG_LIMA_PROVINCIA'].map({'Lima': 1, 'Provincia': 0})\n",
    "        path_encoder='label_encoder_train.pkl'\n",
    "        with open(path_encoder, 'rb') as f:\n",
    "            encoders_clientes = pickle.load(f)\n",
    "        for col, le in encoders_clientes.items():\n",
    "            df_test[col] = le.transform(df_test[col])\n",
    "        return df_test"
   ]
  },
  {
   "cell_type": "code",
   "execution_count": 22,
   "id": "2ffd07c5",
   "metadata": {},
   "outputs": [],
   "source": [
    "def aplicar_estandarizacion_test(df_test):\n",
    "    path_scaler='scaler_train.pkl'\n",
    "    with open(path_scaler, 'rb') as f:\n",
    "        scaler = pickle.load(f)\n",
    "    no_escalar = ['ID_CORRELATIVO', 'CODMES', 'ATTRITION']\n",
    "    columnas_a_escalar = df_test.columns.difference(no_escalar)\n",
    "    df_predictoras = df_test[columnas_a_escalar]\n",
    "    df_escaladas = pd.DataFrame(scaler.transform(df_predictoras),columns=columnas_a_escalar,index=df_test.index)\n",
    "    df_test_estandarizado = pd.concat([df_test[no_escalar], df_escaladas], axis=1)\n",
    "    return df_test_estandarizado"
   ]
  },
  {
   "cell_type": "code",
   "execution_count": 23,
   "id": "7eebe4d2",
   "metadata": {},
   "outputs": [],
   "source": [
    "x_cols_clientes = ['RANG_INGRESO','FLAG_LIMA_PROVINCIA','EDAD','ANTIGUEDAD']\n",
    "x_cols_requerimientos = ['DICTAMEN']"
   ]
  },
  {
   "cell_type": "code",
   "execution_count": 24,
   "id": "4f5994e9",
   "metadata": {},
   "outputs": [],
   "source": [
    "df_data_imputed_clientes = prepare_impute_missing(df_data_test, x_cols_clientes)"
   ]
  },
  {
   "cell_type": "code",
   "execution_count": 25,
   "id": "17e860f6",
   "metadata": {},
   "outputs": [],
   "source": [
    "df_data_imputed_requerimientos = prepare_impute_missing(df_requerimientos_test, x_cols_requerimientos)"
   ]
  },
  {
   "cell_type": "code",
   "execution_count": 26,
   "id": "e697c84b",
   "metadata": {},
   "outputs": [],
   "source": [
    "df_data_feature_clientes = generar_variables_ingenieria(df_data_imputed_clientes)"
   ]
  },
  {
   "cell_type": "code",
   "execution_count": 27,
   "id": "b259451a",
   "metadata": {},
   "outputs": [],
   "source": [
    "df_data_feature_requerimientos = construir_variables_requerimientos(df_data_imputed_requerimientos)"
   ]
  },
  {
   "cell_type": "code",
   "execution_count": 28,
   "id": "8587330a",
   "metadata": {},
   "outputs": [],
   "source": [
    "df_data_encoder_clientes = apply_label_encoders_to_test(df_data_feature_clientes)"
   ]
  },
  {
   "cell_type": "code",
   "execution_count": 29,
   "id": "1a7f4a17",
   "metadata": {},
   "outputs": [],
   "source": [
    "df_final = df_data_encoder_clientes.merge(df_data_feature_requerimientos, on='ID_CORRELATIVO', how='left')\n",
    "df_final.fillna(0, inplace=True)"
   ]
  },
  {
   "cell_type": "code",
   "execution_count": 30,
   "id": "ceff23f8",
   "metadata": {},
   "outputs": [],
   "source": [
    "df_final = aplicar_estandarizacion_test(df_final)"
   ]
  },
  {
   "cell_type": "code",
   "execution_count": null,
   "id": "ed25cfde",
   "metadata": {},
   "outputs": [],
   "source": [
    "def prepare_dataset(df_data_test,df_requerimientos_test):\n",
    "    x_cols_clientes = ['RANG_INGRESO','FLAG_LIMA_PROVINCIA','EDAD','ANTIGUEDAD']\n",
    "    x_cols_requerimientos = ['DICTAMEN']\n",
    "    df_data_imputed_clientes = prepare_impute_missing(df_data_test, x_cols_clientes)\n",
    "    df_data_imputed_requerimientos = prepare_impute_missing(df_requerimientos_test, x_cols_requerimientos)\n",
    "    df_data_feature_clientes = generar_variables_ingenieria(df_data_imputed_clientes)\n",
    "    df_data_feature_requerimientos = construir_variables_requerimientos(df_data_imputed_requerimientos)\n",
    "    df_data_encoder_clientes = apply_label_encoders_to_test(df_data_feature_clientes)\n",
    "    df_final = df_data_encoder_clientes.merge(df_data_feature_requerimientos, on='ID_CORRELATIVO', how='left')\n",
    "    df_final.fillna(0, inplace=True)\n",
    "    df_final = aplicar_estandarizacion_test(df_final)\n",
    "    return df_final"
   ]
  },
  {
   "cell_type": "code",
   "execution_count": null,
   "id": "d7267da3",
   "metadata": {},
   "outputs": [],
   "source": [
    "df_final = prepare_dataset(df_data_test,df_requerimientos_test)"
   ]
  },
  {
   "cell_type": "markdown",
   "id": "23190d30",
   "metadata": {},
   "source": [
    "## Model"
   ]
  },
  {
   "cell_type": "code",
   "execution_count": null,
   "id": "70672066",
   "metadata": {},
   "outputs": [],
   "source": [
    "from sklearn.ensemble import RandomForestClassifier\n",
    "from xgboost import XGBClassifier\n",
    "from sklearn.model_selection import GridSearchCV\n",
    "from sklearn.metrics import classification_report\n",
    "import sklearn.metrics as metrics"
   ]
  },
  {
   "cell_type": "code",
   "execution_count": null,
   "id": "189d2e56",
   "metadata": {},
   "outputs": [],
   "source": [
    "os.chdir(os.path.join(os.path.dirname(os.getcwd()), 'data', 'out'))"
   ]
  },
  {
   "cell_type": "code",
   "execution_count": null,
   "id": "ae6cc236",
   "metadata": {},
   "outputs": [],
   "source": [
    "os.getcwd()"
   ]
  },
  {
   "cell_type": "code",
   "execution_count": null,
   "id": "97683bed",
   "metadata": {},
   "outputs": [],
   "source": [
    "data_train_prepared = pd.read_csv('data_train_prepared.csv')\n",
    "data_test_prepared = pd.read_csv('data_test_prepared.csv')"
   ]
  },
  {
   "cell_type": "code",
   "execution_count": null,
   "id": "c58187db",
   "metadata": {},
   "outputs": [],
   "source": [
    "os.chdir('../..')\n",
    "os.chdir('outputs/preprocess')"
   ]
  },
  {
   "cell_type": "code",
   "execution_count": null,
   "id": "2ed93adb",
   "metadata": {},
   "outputs": [],
   "source": [
    "os.getcwd()"
   ]
  },
  {
   "cell_type": "code",
   "execution_count": null,
   "id": "91b6aa30",
   "metadata": {},
   "outputs": [],
   "source": [
    "x_cols = pd.read_csv(f'x_col_names.csv')['x_col'].to_list()\n",
    "y_col = pd.read_csv(f'y_col_name.csv')['y_col'].to_list()"
   ]
  },
  {
   "cell_type": "markdown",
   "id": "1bb13778",
   "metadata": {},
   "source": [
    "##### XGBOST"
   ]
  },
  {
   "cell_type": "code",
   "execution_count": null,
   "id": "f2a869bb",
   "metadata": {},
   "outputs": [],
   "source": [
    "param_grid = {\n",
    "    'max_depth': [3, 5, 7],\n",
    "    'eta': [0.05, 0.1, 0.2], \n",
    "    'gamma': [0, 1, 5],\n",
    "    'min_child_weight': [1, 5, 10],\n",
    "    'subsample': [0.6, 0.8, 1.0],\n",
    "    'n_estimators': [50, 100],\n",
    "    'scale_pos_weight': [1, 5, 10]\n",
    "}"
   ]
  },
  {
   "cell_type": "code",
   "execution_count": null,
   "id": "43478b01",
   "metadata": {},
   "outputs": [],
   "source": [
    "xgb_model = XGBClassifier(objective='binary:logistic', use_label_encoder=False, eval_metric='auc',random_state=42)\n",
    "\n",
    "grid_search = GridSearchCV(\n",
    "    estimator=xgb_model,\n",
    "    param_grid=param_grid,\n",
    "    scoring='roc_auc', \n",
    "    cv=3,\n",
    "    verbose=1,\n",
    "    n_jobs=-1\n",
    ")"
   ]
  },
  {
   "cell_type": "code",
   "execution_count": null,
   "id": "f506a2cf",
   "metadata": {},
   "outputs": [],
   "source": [
    "grid_search.fit(data_train_prepared[x_cols], data_train_prepared[y_col].values.ravel())"
   ]
  },
  {
   "cell_type": "code",
   "execution_count": null,
   "id": "07278372",
   "metadata": {},
   "outputs": [],
   "source": [
    "print(\"Mejores hiperparámetros:\", grid_search.best_params_)\n",
    "print(\"Mejor puntuación:\", grid_search.best_score_)\n"
   ]
  },
  {
   "cell_type": "code",
   "execution_count": null,
   "id": "cf8746c9",
   "metadata": {},
   "outputs": [],
   "source": [
    "best_model = grid_search.best_estimator_\n",
    "y_pred = best_model.predict(data_test_prepared[x_cols])\n",
    "y_proba = best_model.predict_proba(data_test_prepared[x_cols])\n",
    "\n",
    "print(classification_report(data_test_prepared[y_col], y_pred))"
   ]
  },
  {
   "cell_type": "code",
   "execution_count": null,
   "id": "72fcab6b",
   "metadata": {},
   "outputs": [],
   "source": [
    "metrics.roc_auc_score(data_test_prepared[y_col], y_proba[:,1])"
   ]
  },
  {
   "cell_type": "markdown",
   "id": "f0d6bcf4",
   "metadata": {},
   "source": [
    "#### RF"
   ]
  },
  {
   "cell_type": "code",
   "execution_count": null,
   "id": "bd353f16",
   "metadata": {},
   "outputs": [],
   "source": [
    "rf = RandomForestClassifier(random_state=42, class_weight='balanced')\n",
    "model_parameters_grid = {\n",
    "    'n_estimators': [50, 100, 200],            \n",
    "    'max_depth': [None, 4, 6, 8],              \n",
    "    'min_samples_leaf': [1, 10, 50],           \n",
    "    'min_impurity_decrease': [0.0, 0.01, 0.05]\n",
    "}"
   ]
  },
  {
   "cell_type": "code",
   "execution_count": null,
   "id": "c48bf9c4",
   "metadata": {},
   "outputs": [],
   "source": [
    "grid_search = GridSearchCV(\n",
    "    estimator=rf,\n",
    "    param_grid=model_parameters_grid,\n",
    "    scoring='roc_auc', \n",
    "    cv=3,\n",
    "    verbose=1,\n",
    "    n_jobs=-1\n",
    ")\n",
    "grid_search.fit(data_train_prepared[x_cols], data_train_prepared[y_col].values.ravel())"
   ]
  },
  {
   "cell_type": "code",
   "execution_count": null,
   "id": "e78a4aa4",
   "metadata": {},
   "outputs": [],
   "source": [
    "print(\"Mejores hiperparámetros:\", grid_search.best_params_)\n",
    "print(\"Mejor puntuación:\", grid_search.best_score_)"
   ]
  },
  {
   "cell_type": "code",
   "execution_count": null,
   "id": "fb5890bd",
   "metadata": {},
   "outputs": [],
   "source": [
    "y_pred = best_model.predict(data_test_prepared[x_cols])\n",
    "\n",
    "print(classification_report(data_test_prepared[y_col], y_pred))"
   ]
  },
  {
   "cell_type": "code",
   "execution_count": null,
   "id": "0812f647",
   "metadata": {},
   "outputs": [],
   "source": [
    "best_model = grid_search.best_estimator_\n",
    "y_proba = best_model.predict_proba(data_test_prepared[x_cols])"
   ]
  },
  {
   "cell_type": "code",
   "execution_count": null,
   "id": "475623e2",
   "metadata": {},
   "outputs": [],
   "source": [
    "metrics.roc_auc_score(data_test_prepared[y_col], y_proba[:,1])"
   ]
  },
  {
   "cell_type": "code",
   "execution_count": null,
   "id": "a50e6297",
   "metadata": {},
   "outputs": [],
   "source": [
    "df_model_results = pd.DataFrame({'model_parameters': grid_search.cv_results_['params'],\n",
    "                                         'model_rank': grid_search.cv_results_['rank_test_score'],\n",
    "                                         'auc_score_mean': grid_search.cv_results_['mean_test_score'],\n",
    "                                         'auc_score_std': grid_search.cv_results_['std_test_score']})\n",
    "df_model_results['auc_score_cv'] = df_model_results['auc_score_std'] / df_model_results['auc_score_mean']"
   ]
  },
  {
   "cell_type": "code",
   "execution_count": null,
   "id": "33f0f103",
   "metadata": {},
   "outputs": [],
   "source": [
    "df_model_results"
   ]
  },
  {
   "cell_type": "markdown",
   "id": "0bf487bb",
   "metadata": {},
   "source": [
    "### Nuevos datos"
   ]
  },
  {
   "cell_type": "code",
   "execution_count": null,
   "id": "8e257ea9",
   "metadata": {},
   "outputs": [],
   "source": [
    "os.chdir(os.path.join(os.path.dirname(os.getcwd()), 'data', 'in'))"
   ]
  },
  {
   "cell_type": "code",
   "execution_count": null,
   "id": "d0733ebe",
   "metadata": {},
   "outputs": [],
   "source": [
    "os.getcwd()"
   ]
  },
  {
   "cell_type": "code",
   "execution_count": null,
   "id": "800464c5",
   "metadata": {},
   "outputs": [],
   "source": [
    "df_data_test = pd.read_csv(\"oot_clientes_sample.csv\")\n",
    "df_requerimientos_test = pd.read_csv(\"oot_requerimientos_sample.csv\")"
   ]
  },
  {
   "cell_type": "code",
   "execution_count": null,
   "id": "05a2c6b2",
   "metadata": {},
   "outputs": [],
   "source": [
    "os.chdir('../..')"
   ]
  },
  {
   "cell_type": "code",
   "execution_count": null,
   "id": "768fb751",
   "metadata": {},
   "outputs": [],
   "source": [
    "os.chdir('outputs/preprocess')\n",
    "os.getcwd()"
   ]
  },
  {
   "cell_type": "code",
   "execution_count": null,
   "id": "18760d88",
   "metadata": {},
   "outputs": [],
   "source": [
    "def prepare_impute_missing(df_data, x_cols):\n",
    "    df_data_imputed = df_data.copy()\n",
    "    df_impute_parameters = pd.read_csv(f\"imputacion_parametros.csv\")\n",
    "    for col in x_cols:\n",
    "        impute_value = df_impute_parameters[df_impute_parameters[\"variable\"]==col][\"valor\"].values[0]\n",
    "        df_data_imputed[col] = df_data_imputed[col].fillna(impute_value)\n",
    "    return df_data_imputed"
   ]
  },
  {
   "cell_type": "code",
   "execution_count": null,
   "id": "03ec594f",
   "metadata": {},
   "outputs": [],
   "source": [
    "def generar_variables_ingenieria(clientes_df):\n",
    "    clientes_df[\"VAR_SDO_ACTIVO_6M\"] = clientes_df[\"SDO_ACTIVO_MENOS0\"] - clientes_df[\"SDO_ACTIVO_MENOS5\"]\n",
    "    clientes_df[\"PROM_SDO_ACTIVO_0M_2M\"] = clientes_df[[f\"SDO_ACTIVO_MENOS{i}\" for i in range(3)]].mean(axis=1)\n",
    "    clientes_df[\"PROM_SDO_ACTIVO_3M_5M\"] = clientes_df[[f\"SDO_ACTIVO_MENOS{i}\" for i in range(3, 6)]].mean(axis=1)\n",
    "    clientes_df[\"VAR_SDO_ACTIVO_3M\"] = clientes_df[\"PROM_SDO_ACTIVO_0M_2M\"] - clientes_df[\"PROM_SDO_ACTIVO_3M_5M\"]\n",
    "    clientes_df[\"PROM_SDO_ACTIVO_6M\"] = clientes_df[[f\"SDO_ACTIVO_MENOS{i}\" for i in range(6)]].mean(axis=1)\n",
    "    clientes_df[\"MESES_CON_SEGURO\"] = clientes_df[[f\"FLG_SEGURO_MENOS{i}\" for i in range(6)]].sum(axis=1)\n",
    "    for canal in [1, 2, 3]:\n",
    "        base = f\"NRO_ACCES_CANAL{canal}_MENOS\"\n",
    "        clientes_df[f\"VAR_NRO_ACCES_CANAL{canal}_6M\"] = clientes_df[f\"{base}0\"] - clientes_df[f\"{base}5\"]\n",
    "        clientes_df[f\"PROM_NRO_ACCES_CANAL{canal}_6M\"] = clientes_df[[f\"{base}{i}\" for i in range(6)]].mean(axis=1)\n",
    "        clientes_df[f\"PROM_NRO_ACCES_CANAL{canal}_0M_2M\"] = clientes_df[[f\"{base}{i}\" for i in range(3)]].mean(axis=1)\n",
    "        clientes_df[f\"PROM_NRO_ACCES_CANAL{canal}_3M_5M\"] = clientes_df[[f\"{base}{i}\" for i in range(3, 6)]].mean(axis=1)\n",
    "        clientes_df[f\"VAR_NRO_ACCES_CANAL{canal}_3M\"] = (clientes_df[f\"PROM_NRO_ACCES_CANAL{canal}_0M_2M\"] - clientes_df[f\"PROM_NRO_ACCES_CANAL{canal}_3M_5M\"])\n",
    "    clientes_df[\"PROM_NRO_ENTID_SSFF_6M\"] = clientes_df[[f\"NRO_ENTID_SSFF_MENOS{i}\" for i in range(6)]].mean(axis=1)\n",
    "    clientes_df[\"VAR_NRO_ENTID_SSFF_6M\"] = clientes_df[\"NRO_ENTID_SSFF_MENOS0\"] - clientes_df[\"NRO_ENTID_SSFF_MENOS5\"]\n",
    "    clientes_df[\"PROM_NRO_ENTID_SSFF_0M_2M\"] = clientes_df[[f\"NRO_ENTID_SSFF_MENOS{i}\" for i in range(3)]].mean(axis=1)\n",
    "    clientes_df[\"PROM_NRO_ENTID_SSFF_3M_5M\"] = clientes_df[[f\"NRO_ENTID_SSFF_MENOS{i}\" for i in range(3, 6)]].mean(axis=1)\n",
    "    clientes_df[\"VAR_NRO_ENTID_SSFF_3M\"] = (clientes_df[\"PROM_NRO_ENTID_SSFF_0M_2M\"] - clientes_df[\"PROM_NRO_ENTID_SSFF_3M_5M\"])\n",
    "    clientes_df[\"MESES_CON_SALDO\"] = clientes_df[[f\"FLG_SDO_OTSSFF_MENOS{i}\" for i in range(6)]].sum(axis=1)\n",
    "\n",
    "    return clientes_df"
   ]
  },
  {
   "cell_type": "code",
   "execution_count": null,
   "id": "243be863",
   "metadata": {},
   "outputs": [],
   "source": [
    "def construir_variables_requerimientos(df_reqs, id_col='ID_CORRELATIVO'):\n",
    "        total_reqs = df_reqs.groupby(id_col).size().rename('total_requerimientos')\n",
    "        if not isinstance(total_reqs, pd.DataFrame):\n",
    "            total_reqs = total_reqs.to_frame()\n",
    "        n_tipo_req = df_reqs.groupby(id_col)['TIPO_REQUERIMIENTO2'].nunique().rename('nro_tipos_requerimiento').to_frame()\n",
    "        n_dictamen = df_reqs.groupby(id_col)['DICTAMEN'].nunique().rename('nro_dictamenes').to_frame()\n",
    "        n_producto = df_reqs.groupby(id_col)['PRODUCTO_SERVICIO_2'].nunique().rename('nro_productos_servicios').to_frame()\n",
    "        n_submotivo = df_reqs.groupby(id_col)['SUBMOTIVO_2'].nunique().rename('nro_submotivos').to_frame()\n",
    "        tipo_ohe = pd.get_dummies(df_reqs['TIPO_REQUERIMIENTO2'], prefix='tipo')\n",
    "        tipo_ohe[id_col] = df_reqs[id_col]\n",
    "        tipo_ohe = tipo_ohe.groupby(id_col).sum()\n",
    "        dictamen_ohe = pd.get_dummies(df_reqs['DICTAMEN'], prefix='dictamen')\n",
    "        dictamen_ohe[id_col] = df_reqs[id_col]\n",
    "        dictamen_ohe = dictamen_ohe.groupby(id_col).sum()\n",
    "        df_agregado = pd.concat([total_reqs, n_tipo_req, n_dictamen, n_producto, n_submotivo, tipo_ohe, dictamen_ohe],axis=1)\n",
    "        return df_agregado"
   ]
  },
  {
   "cell_type": "code",
   "execution_count": null,
   "id": "c1bb063f",
   "metadata": {},
   "outputs": [],
   "source": [
    "def aplicar_estandarizacion_test(df_test):\n",
    "    path_scaler='scaler_train.pkl'\n",
    "    with open(path_scaler, 'rb') as f:\n",
    "        scaler = pickle.load(f)\n",
    "    no_escalar = ['ID_CORRELATIVO', 'CODMES']\n",
    "    columnas_a_escalar = df_test.columns.difference(no_escalar)\n",
    "    df_predictoras = df_test[columnas_a_escalar]\n",
    "    df_escaladas = pd.DataFrame(scaler.transform(df_predictoras),columns=columnas_a_escalar,index=df_test.index)\n",
    "    df_test_estandarizado = pd.concat([df_test[no_escalar], df_escaladas], axis=1)\n",
    "    return df_test_estandarizado"
   ]
  },
  {
   "cell_type": "code",
   "execution_count": null,
   "id": "92518fe4",
   "metadata": {},
   "outputs": [],
   "source": [
    "def prepare_dataset(df_data_test,df_requerimientos_test):\n",
    "    x_cols_clientes = ['RANG_INGRESO','FLAG_LIMA_PROVINCIA','EDAD','ANTIGUEDAD']\n",
    "    x_cols_requerimientos = ['DICTAMEN']\n",
    "    df_data_imputed_clientes = prepare_impute_missing(df_data_test, x_cols_clientes)\n",
    "    df_data_imputed_requerimientos = prepare_impute_missing(df_requerimientos_test, x_cols_requerimientos)\n",
    "    df_data_feature_clientes = generar_variables_ingenieria(df_data_imputed_clientes)\n",
    "    df_data_feature_requerimientos = construir_variables_requerimientos(df_data_imputed_requerimientos)\n",
    "    df_data_encoder_clientes = apply_label_encoders_to_test(df_data_feature_clientes)\n",
    "    df_final = df_data_encoder_clientes.merge(df_data_feature_requerimientos, on='ID_CORRELATIVO', how='inner')\n",
    "    df_final = aplicar_estandarizacion_test(df_final)\n",
    "    return df_final"
   ]
  },
  {
   "cell_type": "code",
   "execution_count": null,
   "id": "eb5c56a0",
   "metadata": {},
   "outputs": [],
   "source": [
    "df_final = prepare_dataset(df_data_test,df_requerimientos_test)"
   ]
  },
  {
   "cell_type": "code",
   "execution_count": null,
   "id": "56d78b74",
   "metadata": {},
   "outputs": [],
   "source": [
    "df_final"
   ]
  },
  {
   "cell_type": "code",
   "execution_count": null,
   "id": "3bd1f272",
   "metadata": {},
   "outputs": [],
   "source": [
    "os.getcwd()"
   ]
  },
  {
   "cell_type": "code",
   "execution_count": null,
   "id": "1d2a13de",
   "metadata": {},
   "outputs": [],
   "source": [
    "os.chdir('../..')"
   ]
  },
  {
   "cell_type": "code",
   "execution_count": null,
   "id": "17903d9e",
   "metadata": {},
   "outputs": [],
   "source": [
    "os.getcwd()"
   ]
  },
  {
   "cell_type": "code",
   "execution_count": null,
   "id": "82c49166",
   "metadata": {},
   "outputs": [],
   "source": [
    "test_metrics_random_forest = pd.read_csv('outputs/train/metrics/random_forest/train_test_metrics.csv')\n",
    "test_metrics_xgbost = pd.read_csv('outputs/train/metrics/xgbost/train_test_metrics.csv')"
   ]
  },
  {
   "cell_type": "code",
   "execution_count": null,
   "id": "3f1ffbfe",
   "metadata": {},
   "outputs": [],
   "source": [
    "test_metrics_random_forest[test_metrics_random_forest['sample'] == 'test']['auc'].values[0]\n"
   ]
  },
  {
   "cell_type": "code",
   "execution_count": null,
   "id": "f60713d4",
   "metadata": {},
   "outputs": [],
   "source": [
    "test_metrics_xgbost[test_metrics_xgbost['sample'] == 'test']['auc'].values[0]"
   ]
  }
 ],
 "metadata": {
  "kernelspec": {
   "display_name": "base",
   "language": "python",
   "name": "python3"
  },
  "language_info": {
   "codemirror_mode": {
    "name": "ipython",
    "version": 3
   },
   "file_extension": ".py",
   "mimetype": "text/x-python",
   "name": "python",
   "nbconvert_exporter": "python",
   "pygments_lexer": "ipython3",
   "version": "3.12.7"
  }
 },
 "nbformat": 4,
 "nbformat_minor": 5
}
