{
 "cells": [
  {
   "cell_type": "code",
   "execution_count": 1,
   "id": "60ed1fe3",
   "metadata": {},
   "outputs": [],
   "source": [
    "import os\n",
    "import pandas as pd\n",
    "import warnings\n",
    "warnings.filterwarnings('ignore')\n",
    "from sklearn.preprocessing import LabelEncoder\n",
    "from sklearn.preprocessing import StandardScaler\n",
    "import pickle"
   ]
  },
  {
   "cell_type": "code",
   "execution_count": null,
   "id": "bea5c747",
   "metadata": {},
   "outputs": [],
   "source": [
    "os.chdir(os.path.join(os.path.dirname(os.getcwd()), 'data', 'in'))"
   ]
  },
  {
   "cell_type": "code",
   "execution_count": null,
   "id": "03ed4d4a",
   "metadata": {},
   "outputs": [],
   "source": [
    "clientes_df = pd.read_csv('train_clientes_sample.csv')\n",
    "requerimientos_df = pd.read_csv('train_requerimientos_sample.csv')"
   ]
  },
  {
   "cell_type": "code",
   "execution_count": null,
   "id": "39976970",
   "metadata": {},
   "outputs": [],
   "source": [
    "def generar_variables_ingenieria(clientes_df):\n",
    "    # SDO_ACTIVO (saldo)\n",
    "    clientes_df[\"VAR_SDO_ACTIVO_6M\"] = clientes_df[\"SDO_ACTIVO_MENOS0\"] - clientes_df[\"SDO_ACTIVO_MENOS5\"]\n",
    "    clientes_df[\"PROM_SDO_ACTIVO_0M_2M\"] = clientes_df[[f\"SDO_ACTIVO_MENOS{i}\" for i in range(3)]].mean(axis=1)\n",
    "    clientes_df[\"PROM_SDO_ACTIVO_3M_5M\"] = clientes_df[[f\"SDO_ACTIVO_MENOS{i}\" for i in range(3, 6)]].mean(axis=1)\n",
    "    clientes_df[\"VAR_SDO_ACTIVO_3M\"] = clientes_df[\"PROM_SDO_ACTIVO_0M_2M\"] - clientes_df[\"PROM_SDO_ACTIVO_3M_5M\"]\n",
    "    clientes_df[\"PROM_SDO_ACTIVO_6M\"] = clientes_df[[f\"SDO_ACTIVO_MENOS{i}\" for i in range(6)]].mean(axis=1)\n",
    "\n",
    "    # FLG_SEGURO (flag binario)\n",
    "    clientes_df[\"MESES_CON_SEGURO\"] = clientes_df[[f\"FLG_SEGURO_MENOS{i}\" for i in range(6)]].sum(axis=1)\n",
    "\n",
    "    # CANALES\n",
    "    for canal in [1, 2, 3]:\n",
    "        base = f\"NRO_ACCES_CANAL{canal}_MENOS\"\n",
    "        clientes_df[f\"VAR_NRO_ACCES_CANAL{canal}_6M\"] = clientes_df[f\"{base}0\"] - clientes_df[f\"{base}5\"]\n",
    "        clientes_df[f\"PROM_NRO_ACCES_CANAL{canal}_6M\"] = clientes_df[[f\"{base}{i}\" for i in range(6)]].mean(axis=1)\n",
    "        clientes_df[f\"PROM_NRO_ACCES_CANAL{canal}_0M_2M\"] = clientes_df[[f\"{base}{i}\" for i in range(3)]].mean(axis=1)\n",
    "        clientes_df[f\"PROM_NRO_ACCES_CANAL{canal}_3M_5M\"] = clientes_df[[f\"{base}{i}\" for i in range(3, 6)]].mean(axis=1)\n",
    "        clientes_df[f\"VAR_NRO_ACCES_CANAL{canal}_3M\"] = (clientes_df[f\"PROM_NRO_ACCES_CANAL{canal}_0M_2M\"] - clientes_df[f\"PROM_NRO_ACCES_CANAL{canal}_3M_5M\"])\n",
    "\n",
    "    # ENTIDADES FINANCIERAS\n",
    "    clientes_df[\"PROM_NRO_ENTID_SSFF_6M\"] = clientes_df[[f\"NRO_ENTID_SSFF_MENOS{i}\" for i in range(6)]].mean(axis=1)\n",
    "    clientes_df[\"VAR_NRO_ENTID_SSFF_6M\"] = clientes_df[\"NRO_ENTID_SSFF_MENOS0\"] - clientes_df[\"NRO_ENTID_SSFF_MENOS5\"]\n",
    "    clientes_df[\"PROM_NRO_ENTID_SSFF_0M_2M\"] = clientes_df[[f\"NRO_ENTID_SSFF_MENOS{i}\" for i in range(3)]].mean(axis=1)\n",
    "    clientes_df[\"PROM_NRO_ENTID_SSFF_3M_5M\"] = clientes_df[[f\"NRO_ENTID_SSFF_MENOS{i}\" for i in range(3, 6)]].mean(axis=1)\n",
    "    clientes_df[\"VAR_NRO_ENTID_SSFF_3M\"] = (clientes_df[\"PROM_NRO_ENTID_SSFF_0M_2M\"] - clientes_df[\"PROM_NRO_ENTID_SSFF_3M_5M\"])\n",
    "\n",
    "    # SALDO EN OTRAS ENTIDADES\n",
    "    clientes_df[\"MESES_CON_SALDO\"] = clientes_df[[f\"FLG_SDO_OTSSFF_MENOS{i}\" for i in range(6)]].sum(axis=1)\n",
    "\n",
    "    return clientes_df\n"
   ]
  },
  {
   "cell_type": "code",
   "execution_count": null,
   "id": "2ef6eb0c",
   "metadata": {},
   "outputs": [],
   "source": [
    "def imputacion_variables(clientes_df,requerimientos_df):\n",
    "    moda = clientes_df['RANG_INGRESO'].mode()[0]\n",
    "    clientes_df['RANG_INGRESO'].fillna(moda, inplace=True)\n",
    "\n",
    "    moda = clientes_df['FLAG_LIMA_PROVINCIA'].mode()[0]\n",
    "    clientes_df['FLAG_LIMA_PROVINCIA'].fillna(moda, inplace=True)\n",
    "\n",
    "    clientes_df['EDAD'].fillna(clientes_df['EDAD'].median(), inplace=True)\n",
    "    clientes_df['ANTIGUEDAD'].fillna(clientes_df['ANTIGUEDAD'].median(), inplace=True)\n",
    "\n",
    "    moda = requerimientos_df['DICTAMEN'].mode()[0]\n",
    "    requerimientos_df['DICTAMEN'].fillna(moda, inplace=True)\n",
    "\n",
    "    return clientes_df, requerimientos_df"
   ]
  },
  {
   "cell_type": "code",
   "execution_count": null,
   "id": "32ee09b2",
   "metadata": {},
   "outputs": [],
   "source": [
    "def encoder_categoricos(clientes_df):\n",
    "    clientes_df['RANG_SDO_PASIVO_MENOS0'] = clientes_df['RANG_SDO_PASIVO_MENOS0'].replace('Cero', 'Rango_SDO_00')\n",
    "    clientes_df['FLAG_LIMA_PROVINCIA'] = clientes_df['FLAG_LIMA_PROVINCIA'].map({'Lima': 1, 'Provincia': 0})\n",
    "    cat_cols = clientes_df.select_dtypes(include=['object', 'category']).columns\n",
    "    encoders_clientes = {} \n",
    "\n",
    "    for col in cat_cols:\n",
    "        le = LabelEncoder()\n",
    "        clientes_df[col] = le.fit_transform(clientes_df[col])\n",
    "        encoders_clientes[col] = le\n",
    "\n",
    "    return clientes_df, encoders_clientes"
   ]
  },
  {
   "cell_type": "code",
   "execution_count": null,
   "id": "ed54a63a",
   "metadata": {},
   "outputs": [],
   "source": [
    "def construir_variables_requerimientos(df_reqs, id_col='ID_CORRELATIVO'):\n",
    "    \n",
    "    total_reqs = df_reqs.groupby(id_col).size().rename('total_requerimientos')\n",
    "    if not isinstance(total_reqs, pd.DataFrame):\n",
    "        total_reqs = total_reqs.to_frame()\n",
    "\n",
    "    n_tipo_req = df_reqs.groupby(id_col)['TIPO_REQUERIMIENTO2'].nunique().rename('nro_tipos_requerimiento').to_frame()\n",
    "    n_dictamen = df_reqs.groupby(id_col)['DICTAMEN'].nunique().rename('nro_dictamenes').to_frame()\n",
    "    n_producto = df_reqs.groupby(id_col)['PRODUCTO_SERVICIO_2'].nunique().rename('nro_productos_servicios').to_frame()\n",
    "    n_submotivo = df_reqs.groupby(id_col)['SUBMOTIVO_2'].nunique().rename('nro_submotivos').to_frame()\n",
    "\n",
    "    tipo_ohe = pd.get_dummies(df_reqs['TIPO_REQUERIMIENTO2'], prefix='tipo')\n",
    "    tipo_ohe[id_col] = df_reqs[id_col]\n",
    "    tipo_ohe = tipo_ohe.groupby(id_col).sum()\n",
    "\n",
    "    dictamen_ohe = pd.get_dummies(df_reqs['DICTAMEN'], prefix='dictamen')\n",
    "    dictamen_ohe[id_col] = df_reqs[id_col]\n",
    "    dictamen_ohe = dictamen_ohe.groupby(id_col).sum()\n",
    "\n",
    "    df_agregado = pd.concat([total_reqs, n_tipo_req, n_dictamen, n_producto, n_submotivo, tipo_ohe, dictamen_ohe],axis=1)\n",
    "\n",
    "    return df_agregado\n"
   ]
  },
  {
   "cell_type": "code",
   "execution_count": null,
   "id": "1c199815",
   "metadata": {},
   "outputs": [],
   "source": [
    "def estandarizacion(df_final):\n",
    "    no_escalar = ['ID_CORRELATIVO', 'CODMES', 'ATTRITION']\n",
    "\n",
    "    columnas_a_escalar = df_final.columns.difference(no_escalar)\n",
    "\n",
    "    df_predictoras = df_final[columnas_a_escalar]\n",
    "\n",
    "    scaler = StandardScaler()\n",
    "    df_escaladas = pd.DataFrame(scaler.fit_transform(df_predictoras),columns=columnas_a_escalar,index=df_final.index)\n",
    "\n",
    "    df_final_estandarizado = pd.concat([df_final[no_escalar], df_escaladas],axis=1)\n",
    "\n",
    "    return df_final_estandarizado, scaler"
   ]
  },
  {
   "cell_type": "code",
   "execution_count": null,
   "id": "717e23ca",
   "metadata": {},
   "outputs": [],
   "source": [
    "clientes_df = generar_variables_ingenieria(clientes_df)\n",
    "clientes_df,requerimientos_df = imputacion_variables(clientes_df,requerimientos_df)\n",
    "clientes_df, artifact_encoders_clientes = encoder_categoricos(clientes_df)\n",
    "requerimientos_df = construir_variables_requerimientos(requerimientos_df)\n",
    "df_final = clientes_df.merge(requerimientos_df, on='ID_CORRELATIVO', how='inner')\n",
    "df_final, artifact_scaler = estandarizacion(df_final)"
   ]
  },
  {
   "cell_type": "code",
   "execution_count": null,
   "id": "b1197686",
   "metadata": {},
   "outputs": [],
   "source": [
    "df_final.columns"
   ]
  },
  {
   "cell_type": "markdown",
   "id": "8ea580c9",
   "metadata": {},
   "source": [
    "### test"
   ]
  },
  {
   "cell_type": "code",
   "execution_count": 2,
   "id": "c0fd882a",
   "metadata": {},
   "outputs": [],
   "source": [
    "os.chdir(os.path.join(os.path.dirname(os.getcwd()), 'data', 'out'))"
   ]
  },
  {
   "cell_type": "code",
   "execution_count": 3,
   "id": "9d517cf4",
   "metadata": {},
   "outputs": [
    {
     "data": {
      "text/plain": [
       "'c:\\\\Users\\\\Omen\\\\UP\\\\Teoria importante\\\\ML OPS\\\\Proyecto final\\\\Bank_Attrition_Detection_MLOps\\\\data\\\\out'"
      ]
     },
     "execution_count": 3,
     "metadata": {},
     "output_type": "execute_result"
    }
   ],
   "source": [
    "os.getcwd()"
   ]
  },
  {
   "cell_type": "code",
   "execution_count": 4,
   "id": "565c7f2f",
   "metadata": {},
   "outputs": [],
   "source": [
    "df_data_test = pd.read_csv(\"clientes_data_test.csv\")\n",
    "df_requerimientos_test = pd.read_csv(\"requerimientos_data_test.csv\")"
   ]
  },
  {
   "cell_type": "code",
   "execution_count": 5,
   "id": "c206f0a7",
   "metadata": {},
   "outputs": [],
   "source": [
    "os.chdir('../..')"
   ]
  },
  {
   "cell_type": "code",
   "execution_count": 6,
   "id": "a9f5bc74",
   "metadata": {},
   "outputs": [],
   "source": [
    "os.chdir('outputs/preprocess')"
   ]
  },
  {
   "cell_type": "code",
   "execution_count": 7,
   "id": "d206e87e",
   "metadata": {},
   "outputs": [
    {
     "data": {
      "text/plain": [
       "'c:\\\\Users\\\\Omen\\\\UP\\\\Teoria importante\\\\ML OPS\\\\Proyecto final\\\\Bank_Attrition_Detection_MLOps\\\\outputs\\\\preprocess'"
      ]
     },
     "execution_count": 7,
     "metadata": {},
     "output_type": "execute_result"
    }
   ],
   "source": [
    "os.getcwd()"
   ]
  },
  {
   "cell_type": "code",
   "execution_count": 8,
   "id": "1e704691",
   "metadata": {},
   "outputs": [],
   "source": [
    "def prepare_impute_missing(df_data, x_cols):\n",
    "    df_data_imputed = df_data.copy()\n",
    "    df_impute_parameters = pd.read_csv(f\"imputacion_parametros.csv\")\n",
    "    for col in x_cols:\n",
    "        impute_value = df_impute_parameters[df_impute_parameters[\"variable\"]==col][\"valor\"].values[0]\n",
    "        df_data_imputed[col] = df_data_imputed[col].fillna(impute_value)\n",
    "    return df_data_imputed"
   ]
  },
  {
   "cell_type": "code",
   "execution_count": 9,
   "id": "87807728",
   "metadata": {},
   "outputs": [],
   "source": [
    "def generar_variables_ingenieria(clientes_df):\n",
    "    clientes_df[\"VAR_SDO_ACTIVO_6M\"] = clientes_df[\"SDO_ACTIVO_MENOS0\"] - clientes_df[\"SDO_ACTIVO_MENOS5\"]\n",
    "    clientes_df[\"PROM_SDO_ACTIVO_0M_2M\"] = clientes_df[[f\"SDO_ACTIVO_MENOS{i}\" for i in range(3)]].mean(axis=1)\n",
    "    clientes_df[\"PROM_SDO_ACTIVO_3M_5M\"] = clientes_df[[f\"SDO_ACTIVO_MENOS{i}\" for i in range(3, 6)]].mean(axis=1)\n",
    "    clientes_df[\"VAR_SDO_ACTIVO_3M\"] = clientes_df[\"PROM_SDO_ACTIVO_0M_2M\"] - clientes_df[\"PROM_SDO_ACTIVO_3M_5M\"]\n",
    "    clientes_df[\"PROM_SDO_ACTIVO_6M\"] = clientes_df[[f\"SDO_ACTIVO_MENOS{i}\" for i in range(6)]].mean(axis=1)\n",
    "    clientes_df[\"MESES_CON_SEGURO\"] = clientes_df[[f\"FLG_SEGURO_MENOS{i}\" for i in range(6)]].sum(axis=1)\n",
    "    for canal in [1, 2, 3]:\n",
    "        base = f\"NRO_ACCES_CANAL{canal}_MENOS\"\n",
    "        clientes_df[f\"VAR_NRO_ACCES_CANAL{canal}_6M\"] = clientes_df[f\"{base}0\"] - clientes_df[f\"{base}5\"]\n",
    "        clientes_df[f\"PROM_NRO_ACCES_CANAL{canal}_6M\"] = clientes_df[[f\"{base}{i}\" for i in range(6)]].mean(axis=1)\n",
    "        clientes_df[f\"PROM_NRO_ACCES_CANAL{canal}_0M_2M\"] = clientes_df[[f\"{base}{i}\" for i in range(3)]].mean(axis=1)\n",
    "        clientes_df[f\"PROM_NRO_ACCES_CANAL{canal}_3M_5M\"] = clientes_df[[f\"{base}{i}\" for i in range(3, 6)]].mean(axis=1)\n",
    "        clientes_df[f\"VAR_NRO_ACCES_CANAL{canal}_3M\"] = (clientes_df[f\"PROM_NRO_ACCES_CANAL{canal}_0M_2M\"] - clientes_df[f\"PROM_NRO_ACCES_CANAL{canal}_3M_5M\"])\n",
    "    clientes_df[\"PROM_NRO_ENTID_SSFF_6M\"] = clientes_df[[f\"NRO_ENTID_SSFF_MENOS{i}\" for i in range(6)]].mean(axis=1)\n",
    "    clientes_df[\"VAR_NRO_ENTID_SSFF_6M\"] = clientes_df[\"NRO_ENTID_SSFF_MENOS0\"] - clientes_df[\"NRO_ENTID_SSFF_MENOS5\"]\n",
    "    clientes_df[\"PROM_NRO_ENTID_SSFF_0M_2M\"] = clientes_df[[f\"NRO_ENTID_SSFF_MENOS{i}\" for i in range(3)]].mean(axis=1)\n",
    "    clientes_df[\"PROM_NRO_ENTID_SSFF_3M_5M\"] = clientes_df[[f\"NRO_ENTID_SSFF_MENOS{i}\" for i in range(3, 6)]].mean(axis=1)\n",
    "    clientes_df[\"VAR_NRO_ENTID_SSFF_3M\"] = (clientes_df[\"PROM_NRO_ENTID_SSFF_0M_2M\"] - clientes_df[\"PROM_NRO_ENTID_SSFF_3M_5M\"])\n",
    "    clientes_df[\"MESES_CON_SALDO\"] = clientes_df[[f\"FLG_SDO_OTSSFF_MENOS{i}\" for i in range(6)]].sum(axis=1)\n",
    "\n",
    "    return clientes_df"
   ]
  },
  {
   "cell_type": "code",
   "execution_count": 10,
   "id": "c36036dc",
   "metadata": {},
   "outputs": [],
   "source": [
    "def construir_variables_requerimientos(df_reqs, id_col='ID_CORRELATIVO'):\n",
    "        total_reqs = df_reqs.groupby(id_col).size().rename('total_requerimientos')\n",
    "        if not isinstance(total_reqs, pd.DataFrame):\n",
    "            total_reqs = total_reqs.to_frame()\n",
    "        n_tipo_req = df_reqs.groupby(id_col)['TIPO_REQUERIMIENTO2'].nunique().rename('nro_tipos_requerimiento').to_frame()\n",
    "        n_dictamen = df_reqs.groupby(id_col)['DICTAMEN'].nunique().rename('nro_dictamenes').to_frame()\n",
    "        n_producto = df_reqs.groupby(id_col)['PRODUCTO_SERVICIO_2'].nunique().rename('nro_productos_servicios').to_frame()\n",
    "        n_submotivo = df_reqs.groupby(id_col)['SUBMOTIVO_2'].nunique().rename('nro_submotivos').to_frame()\n",
    "        tipo_ohe = pd.get_dummies(df_reqs['TIPO_REQUERIMIENTO2'], prefix='tipo')\n",
    "        tipo_ohe[id_col] = df_reqs[id_col]\n",
    "        tipo_ohe = tipo_ohe.groupby(id_col).sum()\n",
    "        dictamen_ohe = pd.get_dummies(df_reqs['DICTAMEN'], prefix='dictamen')\n",
    "        dictamen_ohe[id_col] = df_reqs[id_col]\n",
    "        dictamen_ohe = dictamen_ohe.groupby(id_col).sum()\n",
    "        df_agregado = pd.concat([total_reqs, n_tipo_req, n_dictamen, n_producto, n_submotivo, tipo_ohe, dictamen_ohe],axis=1)\n",
    "        return df_agregado"
   ]
  },
  {
   "cell_type": "code",
   "execution_count": 11,
   "id": "9b052a3a",
   "metadata": {},
   "outputs": [],
   "source": [
    "def apply_label_encoders_to_test(df_test):\n",
    "        df_test['RANG_SDO_PASIVO_MENOS0'] = df_test['RANG_SDO_PASIVO_MENOS0'].replace('Cero', 'Rango_SDO_00')\n",
    "        df_test['FLAG_LIMA_PROVINCIA'] = df_test['FLAG_LIMA_PROVINCIA'].map({'Lima': 1, 'Provincia': 0})\n",
    "        path_encoder='label_encoder_train.pkl'\n",
    "        with open(path_encoder, 'rb') as f:\n",
    "            encoders_clientes = pickle.load(f)\n",
    "        for col, le in encoders_clientes.items():\n",
    "            df_test[col] = le.transform(df_test[col])\n",
    "        return df_test"
   ]
  },
  {
   "cell_type": "code",
   "execution_count": 12,
   "id": "2ffd07c5",
   "metadata": {},
   "outputs": [],
   "source": [
    "def aplicar_estandarizacion_test(df_test):\n",
    "    path_scaler='scaler_train.pkl'\n",
    "    with open(path_scaler, 'rb') as f:\n",
    "        scaler = pickle.load(f)\n",
    "    no_escalar = ['ID_CORRELATIVO', 'CODMES', 'ATTRITION']\n",
    "    columnas_a_escalar = df_test.columns.difference(no_escalar)\n",
    "    df_predictoras = df_test[columnas_a_escalar]\n",
    "    df_escaladas = pd.DataFrame(scaler.transform(df_predictoras),columns=columnas_a_escalar,index=df_test.index)\n",
    "    df_test_estandarizado = pd.concat([df_test[no_escalar], df_escaladas], axis=1)\n",
    "    return df_test_estandarizado"
   ]
  },
  {
   "cell_type": "code",
   "execution_count": 13,
   "id": "ed25cfde",
   "metadata": {},
   "outputs": [],
   "source": [
    "def prepare_dataset(df_data_test,df_requerimientos_test):\n",
    "    x_cols_clientes = ['RANG_INGRESO','FLAG_LIMA_PROVINCIA','EDAD','ANTIGUEDAD']\n",
    "    x_cols_requerimientos = ['DICTAMEN']\n",
    "    df_data_imputed_clientes = prepare_impute_missing(df_data_test, x_cols_clientes)\n",
    "    df_data_imputed_requerimientos = prepare_impute_missing(df_requerimientos_test, x_cols_requerimientos)\n",
    "    df_data_feature_clientes = generar_variables_ingenieria(df_data_imputed_clientes)\n",
    "    df_data_feature_requerimientos = construir_variables_requerimientos(df_data_imputed_requerimientos)\n",
    "    df_data_encoder_clientes = apply_label_encoders_to_test(df_data_feature_clientes)\n",
    "    df_final = df_data_encoder_clientes.merge(df_data_feature_requerimientos, on='ID_CORRELATIVO', how='inner')\n",
    "    df_final = aplicar_estandarizacion_test(df_final)\n",
    "    return df_final"
   ]
  },
  {
   "cell_type": "code",
   "execution_count": 14,
   "id": "d7267da3",
   "metadata": {},
   "outputs": [],
   "source": [
    "df_final = prepare_dataset(df_data_test,df_requerimientos_test)"
   ]
  },
  {
   "cell_type": "code",
   "execution_count": 17,
   "id": "ae6cc236",
   "metadata": {},
   "outputs": [
    {
     "data": {
      "text/plain": [
       "Index(['ID_CORRELATIVO', 'CODMES', 'ATTRITION', 'ANTIGUEDAD', 'EDAD',\n",
       "       'FLAG_LIMA_PROVINCIA', 'FLG_BANCARIZADO', 'FLG_NOMINA',\n",
       "       'FLG_SDO_OTSSFF_MENOS0', 'FLG_SDO_OTSSFF_MENOS1',\n",
       "       'FLG_SDO_OTSSFF_MENOS2', 'FLG_SDO_OTSSFF_MENOS3',\n",
       "       'FLG_SDO_OTSSFF_MENOS4', 'FLG_SDO_OTSSFF_MENOS5', 'FLG_SEGURO_MENOS0',\n",
       "       'FLG_SEGURO_MENOS1', 'FLG_SEGURO_MENOS2', 'FLG_SEGURO_MENOS3',\n",
       "       'FLG_SEGURO_MENOS4', 'FLG_SEGURO_MENOS5', 'MESES_CON_SALDO',\n",
       "       'MESES_CON_SEGURO', 'NRO_ACCES_CANAL1_MENOS0',\n",
       "       'NRO_ACCES_CANAL1_MENOS1', 'NRO_ACCES_CANAL1_MENOS2',\n",
       "       'NRO_ACCES_CANAL1_MENOS3', 'NRO_ACCES_CANAL1_MENOS4',\n",
       "       'NRO_ACCES_CANAL1_MENOS5', 'NRO_ACCES_CANAL2_MENOS0',\n",
       "       'NRO_ACCES_CANAL2_MENOS1', 'NRO_ACCES_CANAL2_MENOS2',\n",
       "       'NRO_ACCES_CANAL2_MENOS3', 'NRO_ACCES_CANAL2_MENOS4',\n",
       "       'NRO_ACCES_CANAL2_MENOS5', 'NRO_ACCES_CANAL3_MENOS0',\n",
       "       'NRO_ACCES_CANAL3_MENOS1', 'NRO_ACCES_CANAL3_MENOS2',\n",
       "       'NRO_ACCES_CANAL3_MENOS3', 'NRO_ACCES_CANAL3_MENOS4',\n",
       "       'NRO_ACCES_CANAL3_MENOS5', 'NRO_ENTID_SSFF_MENOS0',\n",
       "       'NRO_ENTID_SSFF_MENOS1', 'NRO_ENTID_SSFF_MENOS2',\n",
       "       'NRO_ENTID_SSFF_MENOS3', 'NRO_ENTID_SSFF_MENOS4',\n",
       "       'NRO_ENTID_SSFF_MENOS5', 'PROM_NRO_ACCES_CANAL1_0M_2M',\n",
       "       'PROM_NRO_ACCES_CANAL1_3M_5M', 'PROM_NRO_ACCES_CANAL1_6M',\n",
       "       'PROM_NRO_ACCES_CANAL2_0M_2M', 'PROM_NRO_ACCES_CANAL2_3M_5M',\n",
       "       'PROM_NRO_ACCES_CANAL2_6M', 'PROM_NRO_ACCES_CANAL3_0M_2M',\n",
       "       'PROM_NRO_ACCES_CANAL3_3M_5M', 'PROM_NRO_ACCES_CANAL3_6M',\n",
       "       'PROM_NRO_ENTID_SSFF_0M_2M', 'PROM_NRO_ENTID_SSFF_3M_5M',\n",
       "       'PROM_NRO_ENTID_SSFF_6M', 'PROM_SDO_ACTIVO_0M_2M',\n",
       "       'PROM_SDO_ACTIVO_3M_5M', 'PROM_SDO_ACTIVO_6M', 'RANG_INGRESO',\n",
       "       'RANG_NRO_PRODUCTOS_MENOS0', 'RANG_SDO_PASIVO_MENOS0',\n",
       "       'SDO_ACTIVO_MENOS0', 'SDO_ACTIVO_MENOS1', 'SDO_ACTIVO_MENOS2',\n",
       "       'SDO_ACTIVO_MENOS3', 'SDO_ACTIVO_MENOS4', 'SDO_ACTIVO_MENOS5',\n",
       "       'VAR_NRO_ACCES_CANAL1_3M', 'VAR_NRO_ACCES_CANAL1_6M',\n",
       "       'VAR_NRO_ACCES_CANAL2_3M', 'VAR_NRO_ACCES_CANAL2_6M',\n",
       "       'VAR_NRO_ACCES_CANAL3_3M', 'VAR_NRO_ACCES_CANAL3_6M',\n",
       "       'VAR_NRO_ENTID_SSFF_3M', 'VAR_NRO_ENTID_SSFF_6M', 'VAR_SDO_ACTIVO_3M',\n",
       "       'VAR_SDO_ACTIVO_6M', 'dictamen_NO PROCEDE', 'dictamen_PROCEDE PARCIAL',\n",
       "       'dictamen_PROCEDE TOTAL', 'nro_dictamenes', 'nro_productos_servicios',\n",
       "       'nro_submotivos', 'nro_tipos_requerimiento', 'tipo_Reclamo',\n",
       "       'tipo_Solicitud', 'total_requerimientos'],\n",
       "      dtype='object')"
      ]
     },
     "execution_count": 17,
     "metadata": {},
     "output_type": "execute_result"
    }
   ],
   "source": [
    "df_final.columns"
   ]
  }
 ],
 "metadata": {
  "kernelspec": {
   "display_name": "base",
   "language": "python",
   "name": "python3"
  },
  "language_info": {
   "codemirror_mode": {
    "name": "ipython",
    "version": 3
   },
   "file_extension": ".py",
   "mimetype": "text/x-python",
   "name": "python",
   "nbconvert_exporter": "python",
   "pygments_lexer": "ipython3",
   "version": "3.12.7"
  }
 },
 "nbformat": 4,
 "nbformat_minor": 5
}
